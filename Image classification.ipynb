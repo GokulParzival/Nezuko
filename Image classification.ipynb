{
 "cells": [
  {
   "cell_type": "markdown",
   "id": "6d325fbe",
   "metadata": {
    "papermill": {
     "duration": 0.019524,
     "end_time": "2021-10-26T12:59:36.196339",
     "exception": false,
     "start_time": "2021-10-26T12:59:36.176815",
     "status": "completed"
    },
    "tags": []
   },
   "source": [
    "# Multiclass Classification"
   ]
  },
  {
   "cell_type": "markdown",
   "id": "96da7eba",
   "metadata": {
    "papermill": {
     "duration": 0.016961,
     "end_time": "2021-10-26T12:59:36.231518",
     "exception": false,
     "start_time": "2021-10-26T12:59:36.214557",
     "status": "completed"
    },
    "tags": []
   },
   "source": [
    "## Features\n",
    "\n",
    "1. Done by Gokulakannan S\n",
    "2. Multi class image classification Task\n",
    "3. Model Used: VGG Model\n",
    "4. Data present in Kaggle : https://www.kaggle.com/nadeemsk4347/classifying-flowers-with-keras/data . It is the same data provided to me by TMLC."
   ]
  },
  {
   "cell_type": "code",
   "execution_count": 1,
   "id": "7fa37d90",
   "metadata": {
    "_cell_guid": "b1076dfc-b9ad-4769-8c92-a6c4dae69d19",
    "_uuid": "8f2839f25d086af736a60e9eeb907d3b93b6e0e5",
    "execution": {
     "iopub.execute_input": "2021-10-26T12:59:36.274313Z",
     "iopub.status.busy": "2021-10-26T12:59:36.273529Z",
     "iopub.status.idle": "2021-10-26T12:59:36.292001Z",
     "shell.execute_reply": "2021-10-26T12:59:36.291318Z",
     "shell.execute_reply.started": "2021-10-26T12:30:09.850183Z"
    },
    "papermill": {
     "duration": 0.043447,
     "end_time": "2021-10-26T12:59:36.292168",
     "exception": false,
     "start_time": "2021-10-26T12:59:36.248721",
     "status": "completed"
    },
    "tags": []
   },
   "outputs": [
    {
     "name": "stdout",
     "output_type": "stream",
     "text": [
      "/kaggle/input/flower-dataset-102/102flowers.tgz\n",
      "/kaggle/input/flower-dataset-102/imagelabels.mat\n"
     ]
    }
   ],
   "source": [
    "# This Python 3 environment comes with many helpful analytics libraries installed\n",
    "# It is defined by the kaggle/python Docker image: https://github.com/kaggle/docker-python\n",
    "# For example, here's several helpful packages to load\n",
    "\n",
    "import numpy as np # linear algebra\n",
    "import pandas as pd # data processing, CSV file I/O (e.g. pd.read_csv)\n",
    "\n",
    "# Input data files are available in the read-only \"../input/\" directory\n",
    "# For example, running this (by clicking run or pressing Shift+Enter) will list all files under the input directory\n",
    "\n",
    "import os\n",
    "for dirname, _, filenames in os.walk('/kaggle/input'):\n",
    "    for filename in filenames:\n",
    "        print(os.path.join(dirname, filename))\n",
    "\n",
    "# You can write up to 5GB to the current directory (/kaggle/working/) that gets preserved as output when you create a version using \"Save & Run All\" \n",
    "# You can also write temporary files to /kaggle/temp/, but they won't be saved outside of the current session"
   ]
  },
  {
   "cell_type": "code",
   "execution_count": 2,
   "id": "7636b973",
   "metadata": {
    "execution": {
     "iopub.execute_input": "2021-10-26T12:59:36.333954Z",
     "iopub.status.busy": "2021-10-26T12:59:36.333403Z",
     "iopub.status.idle": "2021-10-26T12:59:42.216881Z",
     "shell.execute_reply": "2021-10-26T12:59:42.216265Z",
     "shell.execute_reply.started": "2021-10-26T12:30:11.120014Z"
    },
    "papermill": {
     "duration": 5.906337,
     "end_time": "2021-10-26T12:59:42.217018",
     "exception": false,
     "start_time": "2021-10-26T12:59:36.310681",
     "status": "completed"
    },
    "tags": []
   },
   "outputs": [],
   "source": [
    "#Importing the necessary Libraries\n",
    "import os\n",
    "import numpy as np\n",
    "import scipy.io\n",
    "import keras\n",
    "from keras.models import Sequential\n",
    "from keras.preprocessing.image import ImageDataGenerator\n",
    "import cv2\n",
    "from sklearn.model_selection import train_test_split\n",
    "import tarfile\n",
    "import cv2\n",
    "import matplotlib.pyplot as plt\n",
    "from tqdm import tqdm\n",
    "from tensorflow.keras.utils import to_categorical\n",
    "from sklearn.metrics import confusion_matrix\n",
    "from keras import Sequential\n",
    "from tensorflow.keras.applications import VGG19 #For Transfer Learning\n",
    "from keras.preprocessing.image import ImageDataGenerator\n",
    "from tensorflow.keras.optimizers import SGD,Adam\n",
    "from keras.callbacks import ReduceLROnPlateau\n",
    "from keras.layers import Flatten,Dense,BatchNormalization,Activation,Dropout\n"
   ]
  },
  {
   "cell_type": "markdown",
   "id": "417714b7",
   "metadata": {
    "papermill": {
     "duration": 0.018404,
     "end_time": "2021-10-26T12:59:42.253478",
     "exception": false,
     "start_time": "2021-10-26T12:59:42.235074",
     "status": "completed"
    },
    "tags": []
   },
   "source": [
    "## Step 1 : Processing Labels"
   ]
  },
  {
   "cell_type": "code",
   "execution_count": 3,
   "id": "9ccb6c3c",
   "metadata": {
    "_cell_guid": "79c7e3d0-c299-4dcb-8224-4455121ee9b0",
    "_uuid": "d629ff2d2480ee46fbb7e2d37f6b5fab8052498a",
    "execution": {
     "iopub.execute_input": "2021-10-26T12:59:42.292809Z",
     "iopub.status.busy": "2021-10-26T12:59:42.292279Z",
     "iopub.status.idle": "2021-10-26T12:59:42.335591Z",
     "shell.execute_reply": "2021-10-26T12:59:42.336133Z",
     "shell.execute_reply.started": "2021-10-26T12:30:17.145112Z"
    },
    "papermill": {
     "duration": 0.065335,
     "end_time": "2021-10-26T12:59:42.336324",
     "exception": false,
     "start_time": "2021-10-26T12:59:42.270989",
     "status": "completed"
    },
    "tags": []
   },
   "outputs": [
    {
     "name": "stdout",
     "output_type": "stream",
     "text": [
      "[76 76 76 ... 61 61 61]\n"
     ]
    }
   ],
   "source": [
    "img_labels = scipy.io.loadmat(\"/kaggle/input/flower-dataset-102/imagelabels.mat\")\n",
    "img_labels = img_labels[\"labels\"]\n",
    "img_labels = img_labels[0]\n",
    "for i in range(len(img_labels)):\n",
    "  img_labels[i] = img_labels[i] - 1\n",
    "print(img_labels)"
   ]
  },
  {
   "cell_type": "markdown",
   "id": "c8d88b89",
   "metadata": {
    "papermill": {
     "duration": 0.017736,
     "end_time": "2021-10-26T12:59:42.373356",
     "exception": false,
     "start_time": "2021-10-26T12:59:42.355620",
     "status": "completed"
    },
    "tags": []
   },
   "source": [
    "## Step 2 : Processing Images"
   ]
  },
  {
   "cell_type": "code",
   "execution_count": 4,
   "id": "87abeb0b",
   "metadata": {
    "execution": {
     "iopub.execute_input": "2021-10-26T12:59:42.416652Z",
     "iopub.status.busy": "2021-10-26T12:59:42.416102Z",
     "iopub.status.idle": "2021-10-26T13:00:29.151314Z",
     "shell.execute_reply": "2021-10-26T13:00:29.150818Z",
     "shell.execute_reply.started": "2021-10-26T12:30:18.068822Z"
    },
    "papermill": {
     "duration": 46.760207,
     "end_time": "2021-10-26T13:00:29.151460",
     "exception": false,
     "start_time": "2021-10-26T12:59:42.391253",
     "status": "completed"
    },
    "tags": []
   },
   "outputs": [
    {
     "name": "stderr",
     "output_type": "stream",
     "text": [
      "8190it [00:46, 175.77it/s]\n"
     ]
    }
   ],
   "source": [
    "# We are reducing the dimensions of the images to 50 X 50\n",
    "IMG_SIZE = 50\n",
    "\n",
    "train_x = []\n",
    "train_y = []\n",
    "tar = tarfile.open('/kaggle/input/flower-dataset-102/102flowers.tgz', \"r:gz\")\n",
    "i = 0\n",
    "for tarinfo in tqdm(tar):\n",
    "    i+=1\n",
    "    tar.extract(tarinfo.name)\n",
    "    \n",
    "    if(tarinfo.name[-4:] == '.jpg'):\n",
    "        var = tarinfo.name[11:15]\n",
    "        img_num = int(var)-1\n",
    "        train_y.append(img_labels[img_num])\n",
    "        \n",
    "        image = cv2.imread(tarinfo.name) #reading the image\n",
    "        resized = cv2.resize(image, (IMG_SIZE,IMG_SIZE)) # changing image size to 50 X 50\n",
    "        normalized_img = cv2.normalize(resized, None, alpha=0, beta=1, \n",
    "                                norm_type=cv2.NORM_MINMAX, dtype=cv2.CV_32F) #normalizing the pixels\n",
    "        train_x.append(normalized_img)\n",
    "\n",
    "#         label_list.append(tarinfo.name.split('_')[0])\n",
    "    if(tarinfo.isdir()):\n",
    "        os.rmdir(tarinfo.name)\n",
    "    else:\n",
    "        os.remove(tarinfo.name) \n",
    "\n",
    "tar.close()\n",
    "train_x = np.array(train_x) # creating the training data"
   ]
  },
  {
   "cell_type": "code",
   "execution_count": 5,
   "id": "f9bbb177",
   "metadata": {
    "execution": {
     "iopub.execute_input": "2021-10-26T13:00:29.395557Z",
     "iopub.status.busy": "2021-10-26T13:00:29.394961Z",
     "iopub.status.idle": "2021-10-26T13:00:29.582066Z",
     "shell.execute_reply": "2021-10-26T13:00:29.581629Z",
     "shell.execute_reply.started": "2021-10-26T12:32:49.959735Z"
    },
    "papermill": {
     "duration": 0.317878,
     "end_time": "2021-10-26T13:00:29.582196",
     "exception": false,
     "start_time": "2021-10-26T13:00:29.264318",
     "status": "completed"
    },
    "tags": []
   },
   "outputs": [
    {
     "name": "stdout",
     "output_type": "stream",
     "text": [
      "Image shape (8189, 50, 50, 3)\n",
      "The Label of this image is  73\n"
     ]
    },
    {
     "data": {
      "image/png": "[encoded data removed]",
      "text/plain": [
       "<Figure size 432x288 with 1 Axes>"
      ]
     },
     "metadata": {
      "needs_background": "light"
     },
     "output_type": "display_data"
    }
   ],
   "source": [
    "#Change the number in from 0 to 8189 to look into any image\n",
    "plt.imshow(train_x[8180])\n",
    "print(\"Image shape\",train_x.shape)\n",
    "print(\"The Label of this image is \",train_y[8180])"
   ]
  },
  {
   "cell_type": "markdown",
   "id": "8206c72c",
   "metadata": {
    "papermill": {
     "duration": 0.119692,
     "end_time": "2021-10-26T13:00:29.861424",
     "exception": false,
     "start_time": "2021-10-26T13:00:29.741732",
     "status": "completed"
    },
    "tags": []
   },
   "source": [
    "## Step 3 : Data Validation (Train, Validation and Test split)"
   ]
  },
  {
   "cell_type": "code",
   "execution_count": 6,
   "id": "aa29103a",
   "metadata": {
    "execution": {
     "iopub.execute_input": "2021-10-26T13:00:30.098336Z",
     "iopub.status.busy": "2021-10-26T13:00:30.097778Z",
     "iopub.status.idle": "2021-10-26T13:00:30.260061Z",
     "shell.execute_reply": "2021-10-26T13:00:30.260800Z",
     "shell.execute_reply.started": "2021-10-26T12:34:05.775368Z"
    },
    "papermill": {
     "duration": 0.283854,
     "end_time": "2021-10-26T13:00:30.261116",
     "exception": false,
     "start_time": "2021-10-26T13:00:29.977262",
     "status": "completed"
    },
    "tags": []
   },
   "outputs": [
    {
     "name": "stdout",
     "output_type": "stream",
     "text": [
      "Training data number: 6264\n",
      "Testing data number: 819\n",
      "Validation data number: 1106\n",
      "Training labels number: 6264\n",
      "Testing labels number: 819\n",
      "Validation labels number: 1106\n"
     ]
    }
   ],
   "source": [
    "#training and test are split here\n",
    "trainx, testx, trainy, testy = train_test_split(train_x, train_y, test_size=0.10, random_state=10)\n",
    "\n",
    "trainx, valx, trainy, valy = train_test_split(trainx, trainy, test_size=0.15, random_state=10)\n",
    "\n",
    "trainy = to_categorical(trainy)#categorizing the labels by converting the class labels to a binary class matrix\n",
    "testy = to_categorical(testy)\n",
    "valy = to_categorical(valy)\n",
    "np.save('testx.npy', testx)\n",
    "np.save('testy.npy', testy)\n",
    "\n",
    "print(\"Training data number:\",len(trainx))\n",
    "print(\"Testing data number:\",len(testx))\n",
    "print(\"Validation data number:\",len(valx))\n",
    "\n",
    "print(\"Training labels number:\",len(trainy))\n",
    "print(\"Testing labels number:\",len(testy))\n",
    "print(\"Validation labels number:\",len(valy))"
   ]
  },
  {
   "cell_type": "markdown",
   "id": "55ffaeda",
   "metadata": {
    "papermill": {
     "duration": 0.11318,
     "end_time": "2021-10-26T13:00:30.490831",
     "exception": false,
     "start_time": "2021-10-26T13:00:30.377651",
     "status": "completed"
    },
    "tags": []
   },
   "source": [
    "## Step 4 : Model Building"
   ]
  },
  {
   "cell_type": "code",
   "execution_count": 7,
   "id": "8e75429c",
   "metadata": {
    "execution": {
     "iopub.execute_input": "2021-10-26T13:00:30.726710Z",
     "iopub.status.busy": "2021-10-26T13:00:30.726110Z",
     "iopub.status.idle": "2021-10-26T13:00:34.944928Z",
     "shell.execute_reply": "2021-10-26T13:00:34.945993Z",
     "shell.execute_reply.started": "2021-10-26T12:34:44.230264Z"
    },
    "papermill": {
     "duration": 4.34063,
     "end_time": "2021-10-26T13:00:34.946230",
     "exception": false,
     "start_time": "2021-10-26T13:00:30.605600",
     "status": "completed"
    },
    "tags": []
   },
   "outputs": [
    {
     "name": "stderr",
     "output_type": "stream",
     "text": [
      "2021-10-26 13:00:30.806295: I tensorflow/stream_executor/cuda/cuda_gpu_executor.cc:937] successful NUMA node read from SysFS had negative value (-1), but there must be at least one NUMA node, so returning NUMA node zero\n",
      "2021-10-26 13:00:30.900106: I tensorflow/stream_executor/cuda/cuda_gpu_executor.cc:937] successful NUMA node read from SysFS had negative value (-1), but there must be at least one NUMA node, so returning NUMA node zero\n",
      "2021-10-26 13:00:30.900833: I tensorflow/stream_executor/cuda/cuda_gpu_executor.cc:937] successful NUMA node read from SysFS had negative value (-1), but there must be at least one NUMA node, so returning NUMA node zero\n",
      "2021-10-26 13:00:30.901972: I tensorflow/core/platform/cpu_feature_guard.cc:142] This TensorFlow binary is optimized with oneAPI Deep Neural Network Library (oneDNN) to use the following CPU instructions in performance-critical operations:  AVX2 AVX512F FMA\n",
      "To enable them in other operations, rebuild TensorFlow with the appropriate compiler flags.\n",
      "2021-10-26 13:00:30.903194: I tensorflow/stream_executor/cuda/cuda_gpu_executor.cc:937] successful NUMA node read from SysFS had negative value (-1), but there must be at least one NUMA node, so returning NUMA node zero\n",
      "2021-10-26 13:00:30.903872: I tensorflow/stream_executor/cuda/cuda_gpu_executor.cc:937] successful NUMA node read from SysFS had negative value (-1), but there must be at least one NUMA node, so returning NUMA node zero\n",
      "2021-10-26 13:00:30.904493: I tensorflow/stream_executor/cuda/cuda_gpu_executor.cc:937] successful NUMA node read from SysFS had negative value (-1), but there must be at least one NUMA node, so returning NUMA node zero\n",
      "2021-10-26 13:00:32.679961: I tensorflow/stream_executor/cuda/cuda_gpu_executor.cc:937] successful NUMA node read from SysFS had negative value (-1), but there must be at least one NUMA node, so returning NUMA node zero\n",
      "2021-10-26 13:00:32.680861: I tensorflow/stream_executor/cuda/cuda_gpu_executor.cc:937] successful NUMA node read from SysFS had negative value (-1), but there must be at least one NUMA node, so returning NUMA node zero\n",
      "2021-10-26 13:00:32.681548: I tensorflow/stream_executor/cuda/cuda_gpu_executor.cc:937] successful NUMA node read from SysFS had negative value (-1), but there must be at least one NUMA node, so returning NUMA node zero\n",
      "2021-10-26 13:00:32.682137: I tensorflow/core/common_runtime/gpu/gpu_device.cc:1510] Created device /job:localhost/replica:0/task:0/device:GPU:0 with 15403 MB memory:  -> device: 0, name: Tesla P100-PCIE-16GB, pci bus id: 0000:00:04.0, compute capability: 6.0\n"
     ]
    },
    {
     "name": "stdout",
     "output_type": "stream",
     "text": [
      "Downloading data from https://storage.googleapis.com/tensorflow/keras-applications/vgg19/vgg19_weights_tf_dim_ordering_tf_kernels_notop.h5\n",
      "80142336/80134624 [==============================] - 1s 0us/step\n",
      "80150528/80134624 [==============================] - 1s 0us/step\n"
     ]
    }
   ],
   "source": [
    "# model 1\n",
    "# The model is creating taking the base model as VGG19\n",
    "base_model = VGG19(include_top = False, weights = 'imagenet', input_shape = (50,50,3), classes = trainy.shape[1])"
   ]
  },
  {
   "cell_type": "markdown",
   "id": "34ea48fb",
   "metadata": {
    "papermill": {
     "duration": 0.120274,
     "end_time": "2021-10-26T13:00:35.251503",
     "exception": false,
     "start_time": "2021-10-26T13:00:35.131229",
     "status": "completed"
    },
    "tags": []
   },
   "source": [
    "![VGG Network](https://www.researchgate.net/profile/Max-Ferguson/publication/322512435/figure/fig3/AS:697390994567179@1543282378794/Fig-A1-The-standard-VGG-16-network-architecture-as-proposed-in-32-Note-that-only.png)!"
   ]
  },
  {
   "cell_type": "code",
   "execution_count": 8,
   "id": "a4f3d403",
   "metadata": {
    "execution": {
     "iopub.execute_input": "2021-10-26T13:00:35.498364Z",
     "iopub.status.busy": "2021-10-26T13:00:35.497506Z",
     "iopub.status.idle": "2021-10-26T13:00:35.556934Z",
     "shell.execute_reply": "2021-10-26T13:00:35.556339Z",
     "shell.execute_reply.started": "2021-10-26T12:36:17.581754Z"
    },
    "papermill": {
     "duration": 0.185914,
     "end_time": "2021-10-26T13:00:35.557086",
     "exception": false,
     "start_time": "2021-10-26T13:00:35.371172",
     "status": "completed"
    },
    "tags": []
   },
   "outputs": [],
   "source": [
    "#Creating extra deep neural layers for transfer learning\n",
    "model= Sequential()\n",
    "model.add(base_model) \n",
    "model.add(Flatten()) "
   ]
  },
  {
   "cell_type": "code",
   "execution_count": 9,
   "id": "36c8311f",
   "metadata": {
    "execution": {
     "iopub.execute_input": "2021-10-26T13:00:35.810533Z",
     "iopub.status.busy": "2021-10-26T13:00:35.808555Z",
     "iopub.status.idle": "2021-10-26T13:00:35.824671Z",
     "shell.execute_reply": "2021-10-26T13:00:35.823937Z",
     "shell.execute_reply.started": "2021-10-26T12:36:28.820209Z"
    },
    "papermill": {
     "duration": 0.146305,
     "end_time": "2021-10-26T13:00:35.824840",
     "exception": false,
     "start_time": "2021-10-26T13:00:35.678535",
     "status": "completed"
    },
    "tags": []
   },
   "outputs": [
    {
     "name": "stdout",
     "output_type": "stream",
     "text": [
      "Model: \"sequential\"\n",
      "_________________________________________________________________\n",
      "Layer (type)                 Output Shape              Param #   \n",
      "=================================================================\n",
      "vgg19 (Functional)           (None, 1, 1, 512)         20024384  \n",
      "_________________________________________________________________\n",
      "flatten (Flatten)            (None, 512)               0         \n",
      "=================================================================\n",
      "Total params: 20,024,384\n",
      "Trainable params: 20,024,384\n",
      "Non-trainable params: 0\n",
      "_________________________________________________________________\n"
     ]
    }
   ],
   "source": [
    "model.summary()"
   ]
  },
  {
   "cell_type": "code",
   "execution_count": 10,
   "id": "00b1f2a6",
   "metadata": {
    "execution": {
     "iopub.execute_input": "2021-10-26T13:00:36.241189Z",
     "iopub.status.busy": "2021-10-26T13:00:36.240351Z",
     "iopub.status.idle": "2021-10-26T13:00:36.297011Z",
     "shell.execute_reply": "2021-10-26T13:00:36.296355Z",
     "shell.execute_reply.started": "2021-10-26T12:36:31.038908Z"
    },
    "papermill": {
     "duration": 0.266147,
     "end_time": "2021-10-26T13:00:36.297172",
     "exception": false,
     "start_time": "2021-10-26T13:00:36.031025",
     "status": "completed"
    },
    "tags": []
   },
   "outputs": [
    {
     "name": "stdout",
     "output_type": "stream",
     "text": [
      "Model: \"sequential\"\n",
      "_________________________________________________________________\n",
      "Layer (type)                 Output Shape              Param #   \n",
      "=================================================================\n",
      "vgg19 (Functional)           (None, 1, 1, 512)         20024384  \n",
      "_________________________________________________________________\n",
      "flatten (Flatten)            (None, 512)               0         \n",
      "_________________________________________________________________\n",
      "dense (Dense)                (None, 1024)              525312    \n",
      "_________________________________________________________________\n",
      "dense_1 (Dense)              (None, 512)               524800    \n",
      "_________________________________________________________________\n",
      "dense_2 (Dense)              (None, 256)               131328    \n",
      "_________________________________________________________________\n",
      "dropout (Dropout)            (None, 256)               0         \n",
      "_________________________________________________________________\n",
      "dense_3 (Dense)              (None, 128)               32896     \n",
      "_________________________________________________________________\n",
      "dense_4 (Dense)              (None, 102)               13158     \n",
      "=================================================================\n",
      "Total params: 21,251,878\n",
      "Trainable params: 21,251,878\n",
      "Non-trainable params: 0\n",
      "_________________________________________________________________\n"
     ]
    }
   ],
   "source": [
    "#Adding the Dense layers along with activation and batch normalization\n",
    "model.add(Dense(1024,activation=('relu'),input_dim=512))\n",
    "model.add(Dense(512,activation=('relu'))) \n",
    "model.add(Dense(256,activation=('relu'))) \n",
    "model.add(Dropout(.3))\n",
    "model.add(Dense(128,activation=('relu')))\n",
    "#model.add(Dropout(.2))\n",
    "model.add(Dense(102,activation=('softmax'))) \n",
    "\n",
    "#Checking the final model summary\n",
    "model.summary()"
   ]
  },
  {
   "cell_type": "code",
   "execution_count": 11,
   "id": "166bc91f",
   "metadata": {
    "execution": {
     "iopub.execute_input": "2021-10-26T13:00:36.722910Z",
     "iopub.status.busy": "2021-10-26T13:00:36.721228Z",
     "iopub.status.idle": "2021-10-26T13:00:36.724419Z",
     "shell.execute_reply": "2021-10-26T13:00:36.723697Z",
     "shell.execute_reply.started": "2021-10-26T12:36:34.134321Z"
    },
    "papermill": {
     "duration": 0.208918,
     "end_time": "2021-10-26T13:00:36.724590",
     "exception": false,
     "start_time": "2021-10-26T13:00:36.515672",
     "status": "completed"
    },
    "tags": []
   },
   "outputs": [],
   "source": [
    "#learning rate parameter to initialize the learning rate to the model\n",
    "lrr= ReduceLROnPlateau(monitor='val_acc', factor=.01, patience=3, min_lr=1e-5)"
   ]
  },
  {
   "cell_type": "code",
   "execution_count": 12,
   "id": "81db3eb2",
   "metadata": {
    "execution": {
     "iopub.execute_input": "2021-10-26T13:00:37.081102Z",
     "iopub.status.busy": "2021-10-26T13:00:37.080279Z",
     "iopub.status.idle": "2021-10-26T13:00:37.093267Z",
     "shell.execute_reply": "2021-10-26T13:00:37.093858Z",
     "shell.execute_reply.started": "2021-10-26T12:36:50.934357Z"
    },
    "papermill": {
     "duration": 0.165083,
     "end_time": "2021-10-26T13:00:37.094069",
     "exception": false,
     "start_time": "2021-10-26T13:00:36.928986",
     "status": "completed"
    },
    "tags": []
   },
   "outputs": [
    {
     "name": "stderr",
     "output_type": "stream",
     "text": [
      "/opt/conda/lib/python3.7/site-packages/keras/optimizer_v2/optimizer_v2.py:356: UserWarning: The `lr` argument is deprecated, use `learning_rate` instead.\n",
      "  \"The `lr` argument is deprecated, use `learning_rate` instead.\")\n"
     ]
    }
   ],
   "source": [
    "#Initializing the hyperparameters\n",
    "batch_size= 100\n",
    "epochs=50\n",
    "learn_rate=.001\n",
    "sgd=SGD(lr=learn_rate,momentum=.9,nesterov=False)\n",
    "adam=Adam(lr=learn_rate, beta_1=0.9, beta_2=0.999, epsilon=None, decay=0.0, amsgrad=False)\n",
    "model.compile(optimizer=sgd,loss='categorical_crossentropy',metrics=['accuracy'])"
   ]
  },
  {
   "cell_type": "code",
   "execution_count": 13,
   "id": "85b2b7d0",
   "metadata": {
    "execution": {
     "iopub.execute_input": "2021-10-26T13:00:37.347102Z",
     "iopub.status.busy": "2021-10-26T13:00:37.346195Z",
     "iopub.status.idle": "2021-10-26T13:09:49.675001Z",
     "shell.execute_reply": "2021-10-26T13:09:49.675449Z",
     "shell.execute_reply.started": "2021-10-26T12:36:53.514367Z"
    },
    "papermill": {
     "duration": 552.459256,
     "end_time": "2021-10-26T13:09:49.675613",
     "exception": false,
     "start_time": "2021-10-26T13:00:37.216357",
     "status": "completed"
    },
    "tags": []
   },
   "outputs": [
    {
     "name": "stderr",
     "output_type": "stream",
     "text": [
      "2021-10-26 13:00:37.727261: I tensorflow/compiler/mlir/mlir_graph_optimization_pass.cc:185] None of the MLIR Optimization Passes are enabled (registered 2)\n"
     ]
    },
    {
     "name": "stdout",
     "output_type": "stream",
     "text": [
      "Epoch 1/60\n"
     ]
    },
    {
     "name": "stderr",
     "output_type": "stream",
     "text": [
      "2021-10-26 13:00:39.422889: I tensorflow/stream_executor/cuda/cuda_dnn.cc:369] Loaded cuDNN version 8005\n"
     ]
    },
    {
     "name": "stdout",
     "output_type": "stream",
     "text": [
      "314/314 [==============================] - 17s 31ms/step - loss: 4.4157 - accuracy: 0.0508 - val_loss: 3.7842 - val_accuracy: 0.1410\n",
      "Epoch 2/60\n",
      "314/314 [==============================] - 9s 29ms/step - loss: 3.5355 - accuracy: 0.1828 - val_loss: 3.2256 - val_accuracy: 0.2396\n",
      "Epoch 3/60\n",
      "314/314 [==============================] - 9s 29ms/step - loss: 2.7974 - accuracy: 0.2992 - val_loss: 2.6665 - val_accuracy: 0.3137\n",
      "Epoch 4/60\n",
      "314/314 [==============================] - 9s 29ms/step - loss: 2.2681 - accuracy: 0.4112 - val_loss: 1.9600 - val_accuracy: 0.4720\n",
      "Epoch 5/60\n",
      "314/314 [==============================] - 9s 29ms/step - loss: 1.8719 - accuracy: 0.4960 - val_loss: 1.7604 - val_accuracy: 0.5325\n",
      "Epoch 6/60\n",
      "314/314 [==============================] - 9s 29ms/step - loss: 1.5816 - accuracy: 0.5663 - val_loss: 1.7565 - val_accuracy: 0.5570\n",
      "Epoch 7/60\n",
      "314/314 [==============================] - 9s 29ms/step - loss: 1.3655 - accuracy: 0.6218 - val_loss: 1.4347 - val_accuracy: 0.6184\n",
      "Epoch 8/60\n",
      "314/314 [==============================] - 9s 29ms/step - loss: 1.1136 - accuracy: 0.6806 - val_loss: 1.5504 - val_accuracy: 0.6184\n",
      "Epoch 9/60\n",
      "314/314 [==============================] - 9s 29ms/step - loss: 1.0171 - accuracy: 0.7098 - val_loss: 1.6139 - val_accuracy: 0.6293\n",
      "Epoch 10/60\n",
      "314/314 [==============================] - 9s 29ms/step - loss: 0.8511 - accuracy: 0.7510 - val_loss: 1.3756 - val_accuracy: 0.6392\n",
      "Epoch 11/60\n",
      "314/314 [==============================] - 9s 29ms/step - loss: 0.7295 - accuracy: 0.7886 - val_loss: 1.4360 - val_accuracy: 0.6528\n",
      "Epoch 12/60\n",
      "314/314 [==============================] - 9s 29ms/step - loss: 0.7222 - accuracy: 0.7912 - val_loss: 1.3330 - val_accuracy: 0.6718\n",
      "Epoch 13/60\n",
      "314/314 [==============================] - 9s 29ms/step - loss: 0.4750 - accuracy: 0.8602 - val_loss: 1.3277 - val_accuracy: 0.7170\n",
      "Epoch 14/60\n",
      "314/314 [==============================] - 9s 29ms/step - loss: 0.4379 - accuracy: 0.8742 - val_loss: 1.3686 - val_accuracy: 0.7043\n",
      "Epoch 15/60\n",
      "314/314 [==============================] - 9s 29ms/step - loss: 0.4074 - accuracy: 0.8776 - val_loss: 1.3475 - val_accuracy: 0.7025\n",
      "Epoch 16/60\n",
      "314/314 [==============================] - 9s 29ms/step - loss: 0.3339 - accuracy: 0.8994 - val_loss: 1.3155 - val_accuracy: 0.7179\n",
      "Epoch 17/60\n",
      "314/314 [==============================] - 9s 29ms/step - loss: 0.2917 - accuracy: 0.9120 - val_loss: 1.4119 - val_accuracy: 0.7170\n",
      "Epoch 18/60\n",
      "314/314 [==============================] - 9s 29ms/step - loss: 0.2706 - accuracy: 0.9227 - val_loss: 1.6726 - val_accuracy: 0.6637\n",
      "Epoch 19/60\n",
      "314/314 [==============================] - 9s 29ms/step - loss: 0.2394 - accuracy: 0.9270 - val_loss: 1.3212 - val_accuracy: 0.7306\n",
      "Epoch 20/60\n",
      "314/314 [==============================] - 9s 29ms/step - loss: 0.2280 - accuracy: 0.9272 - val_loss: 1.2419 - val_accuracy: 0.7278\n",
      "Epoch 21/60\n",
      "314/314 [==============================] - 9s 29ms/step - loss: 0.1738 - accuracy: 0.9475 - val_loss: 1.5779 - val_accuracy: 0.6736\n",
      "Epoch 22/60\n",
      "314/314 [==============================] - 9s 29ms/step - loss: 0.2174 - accuracy: 0.9427 - val_loss: 1.4377 - val_accuracy: 0.7206\n",
      "Epoch 23/60\n",
      "314/314 [==============================] - 9s 29ms/step - loss: 0.1398 - accuracy: 0.9588 - val_loss: 1.4584 - val_accuracy: 0.7369\n",
      "Epoch 24/60\n",
      "314/314 [==============================] - 9s 29ms/step - loss: 0.0975 - accuracy: 0.9706 - val_loss: 1.4955 - val_accuracy: 0.7233\n",
      "Epoch 25/60\n",
      "314/314 [==============================] - 9s 29ms/step - loss: 0.1126 - accuracy: 0.9676 - val_loss: 1.3676 - val_accuracy: 0.7288\n",
      "Epoch 26/60\n",
      "314/314 [==============================] - 9s 29ms/step - loss: 0.0869 - accuracy: 0.9759 - val_loss: 1.3909 - val_accuracy: 0.7712\n",
      "Epoch 27/60\n",
      "314/314 [==============================] - 9s 29ms/step - loss: 0.1274 - accuracy: 0.9634 - val_loss: 1.5771 - val_accuracy: 0.7233\n",
      "Epoch 28/60\n",
      "314/314 [==============================] - 9s 29ms/step - loss: 0.0934 - accuracy: 0.9737 - val_loss: 1.6358 - val_accuracy: 0.7351\n",
      "Epoch 29/60\n",
      "314/314 [==============================] - 9s 29ms/step - loss: 0.0765 - accuracy: 0.9794 - val_loss: 1.4242 - val_accuracy: 0.7523\n",
      "Epoch 30/60\n",
      "314/314 [==============================] - 9s 29ms/step - loss: 0.0375 - accuracy: 0.9890 - val_loss: 1.6011 - val_accuracy: 0.7541\n",
      "Epoch 31/60\n",
      "314/314 [==============================] - 9s 29ms/step - loss: 0.0493 - accuracy: 0.9877 - val_loss: 1.3984 - val_accuracy: 0.7333\n",
      "Epoch 32/60\n",
      "314/314 [==============================] - 9s 29ms/step - loss: 0.0112 - accuracy: 0.9974 - val_loss: 1.4990 - val_accuracy: 0.7731\n",
      "Epoch 33/60\n",
      "314/314 [==============================] - 9s 29ms/step - loss: 0.0292 - accuracy: 0.9935 - val_loss: 1.7371 - val_accuracy: 0.7025\n",
      "Epoch 34/60\n",
      "314/314 [==============================] - 9s 29ms/step - loss: 0.0620 - accuracy: 0.9824 - val_loss: 1.3464 - val_accuracy: 0.7396\n",
      "Epoch 35/60\n",
      "314/314 [==============================] - 9s 29ms/step - loss: 0.0825 - accuracy: 0.9772 - val_loss: 1.2901 - val_accuracy: 0.7667\n",
      "Epoch 36/60\n",
      "314/314 [==============================] - 9s 29ms/step - loss: 0.0204 - accuracy: 0.9947 - val_loss: 1.6852 - val_accuracy: 0.7459\n",
      "Epoch 37/60\n",
      "314/314 [==============================] - 9s 29ms/step - loss: 0.0802 - accuracy: 0.9762 - val_loss: 1.4235 - val_accuracy: 0.7414\n",
      "Epoch 38/60\n",
      "314/314 [==============================] - 9s 29ms/step - loss: 0.0079 - accuracy: 0.9982 - val_loss: 1.5848 - val_accuracy: 0.7676\n",
      "Epoch 39/60\n",
      "314/314 [==============================] - 9s 29ms/step - loss: 0.0288 - accuracy: 0.9917 - val_loss: 1.4765 - val_accuracy: 0.7622\n",
      "Epoch 40/60\n",
      "314/314 [==============================] - 9s 29ms/step - loss: 0.0302 - accuracy: 0.9922 - val_loss: 1.5692 - val_accuracy: 0.7450\n",
      "Epoch 41/60\n",
      "314/314 [==============================] - 9s 29ms/step - loss: 0.0364 - accuracy: 0.9896 - val_loss: 1.6815 - val_accuracy: 0.7089\n",
      "Epoch 42/60\n",
      "314/314 [==============================] - 9s 29ms/step - loss: 0.0205 - accuracy: 0.9938 - val_loss: 1.5469 - val_accuracy: 0.7694\n",
      "Epoch 43/60\n",
      "314/314 [==============================] - 9s 29ms/step - loss: 0.0465 - accuracy: 0.9869 - val_loss: 1.2987 - val_accuracy: 0.7676\n",
      "Epoch 44/60\n",
      "314/314 [==============================] - 9s 29ms/step - loss: 0.0485 - accuracy: 0.9879 - val_loss: 1.4929 - val_accuracy: 0.7333\n",
      "Epoch 45/60\n",
      "314/314 [==============================] - 9s 29ms/step - loss: 0.0319 - accuracy: 0.9917 - val_loss: 1.4746 - val_accuracy: 0.7495\n",
      "Epoch 46/60\n",
      "314/314 [==============================] - 9s 29ms/step - loss: 0.0376 - accuracy: 0.9903 - val_loss: 1.5636 - val_accuracy: 0.7233\n",
      "Epoch 47/60\n",
      "314/314 [==============================] - 9s 29ms/step - loss: 0.0173 - accuracy: 0.9960 - val_loss: 1.3075 - val_accuracy: 0.7929\n",
      "Epoch 48/60\n",
      "314/314 [==============================] - 9s 29ms/step - loss: 0.0016 - accuracy: 0.9997 - val_loss: 1.3353 - val_accuracy: 0.7902\n",
      "Epoch 49/60\n",
      "314/314 [==============================] - 9s 29ms/step - loss: 0.0012 - accuracy: 0.9997 - val_loss: 1.4177 - val_accuracy: 0.7875\n",
      "Epoch 50/60\n",
      "314/314 [==============================] - 9s 29ms/step - loss: 6.1853e-04 - accuracy: 0.9998 - val_loss: 1.4505 - val_accuracy: 0.7875\n",
      "Epoch 51/60\n",
      "314/314 [==============================] - 9s 29ms/step - loss: 7.5704e-04 - accuracy: 0.9997 - val_loss: 1.4594 - val_accuracy: 0.7893\n",
      "Epoch 52/60\n",
      "314/314 [==============================] - 9s 29ms/step - loss: 5.4512e-04 - accuracy: 0.9997 - val_loss: 1.4862 - val_accuracy: 0.7902\n",
      "Epoch 53/60\n",
      "314/314 [==============================] - 9s 29ms/step - loss: 5.8987e-04 - accuracy: 0.9998 - val_loss: 1.5111 - val_accuracy: 0.7911\n",
      "Epoch 54/60\n",
      "314/314 [==============================] - 9s 29ms/step - loss: 6.1453e-04 - accuracy: 0.9997 - val_loss: 1.5920 - val_accuracy: 0.7957\n",
      "Epoch 55/60\n",
      "314/314 [==============================] - 9s 29ms/step - loss: 6.0299e-04 - accuracy: 0.9997 - val_loss: 1.5723 - val_accuracy: 0.7957\n",
      "Epoch 56/60\n",
      "314/314 [==============================] - 9s 29ms/step - loss: 6.4358e-04 - accuracy: 0.9998 - val_loss: 1.5859 - val_accuracy: 0.7966\n",
      "Epoch 57/60\n",
      "314/314 [==============================] - 9s 29ms/step - loss: 3.9315e-04 - accuracy: 0.9998 - val_loss: 1.5783 - val_accuracy: 0.7975\n",
      "Epoch 58/60\n",
      "314/314 [==============================] - 9s 29ms/step - loss: 7.2311e-04 - accuracy: 0.9997 - val_loss: 1.5921 - val_accuracy: 0.7993\n",
      "Epoch 59/60\n",
      "314/314 [==============================] - 9s 29ms/step - loss: 6.9663e-04 - accuracy: 0.9997 - val_loss: 1.6104 - val_accuracy: 0.7966\n",
      "Epoch 60/60\n",
      "314/314 [==============================] - 9s 29ms/step - loss: 6.2803e-04 - accuracy: 0.9998 - val_loss: 1.6438 - val_accuracy: 0.7948\n"
     ]
    },
    {
     "data": {
      "text/plain": [
       "<keras.callbacks.History at 0x7f3a2711eb90>"
      ]
     },
     "execution_count": 13,
     "metadata": {},
     "output_type": "execute_result"
    }
   ],
   "source": [
    "#fitting the first model\n",
    "model.fit(trainx, trainy, validation_data = (valx, valy), epochs=60, batch_size=20)"
   ]
  },
  {
   "cell_type": "code",
   "execution_count": 14,
   "id": "3065c911",
   "metadata": {
    "execution": {
     "iopub.execute_input": "2021-10-26T13:09:54.820548Z",
     "iopub.status.busy": "2021-10-26T13:09:54.819234Z",
     "iopub.status.idle": "2021-10-26T13:09:55.059074Z",
     "shell.execute_reply": "2021-10-26T13:09:55.059783Z",
     "shell.execute_reply.started": "2021-10-26T12:46:27.929154Z"
    },
    "papermill": {
     "duration": 2.81734,
     "end_time": "2021-10-26T13:09:55.059936",
     "exception": false,
     "start_time": "2021-10-26T13:09:52.242596",
     "status": "completed"
    },
    "tags": []
   },
   "outputs": [
    {
     "data": {
      "text/plain": [
       "[<matplotlib.lines.Line2D at 0x7f3a081f3050>]"
      ]
     },
     "execution_count": 14,
     "metadata": {},
     "output_type": "execute_result"
    },
    {
     "data": {
      "image/png": "[encoded data removed]",
      "text/plain": [
       "<Figure size 432x288 with 2 Axes>"
      ]
     },
     "metadata": {
      "needs_background": "light"
     },
     "output_type": "display_data"
    }
   ],
   "source": [
    "#Plotting the training and validation loss and accuracy\n",
    "f,ax=plt.subplots(2,1) \n",
    "\n",
    "#Loss\n",
    "ax[0].plot(model.history.history['loss'],color='b',label='Training Loss')\n",
    "ax[0].plot(model.history.history['val_loss'],color='r',label='Validation Loss')\n",
    "\n",
    "#Accuracy\n",
    "ax[1].plot(model.history.history['accuracy'],color='b',label='Training  Accuracy')\n",
    "ax[1].plot(model.history.history['val_accuracy'],color='r',label='Validation Accuracy')"
   ]
  },
  {
   "cell_type": "code",
   "execution_count": 15,
   "id": "11c15c17",
   "metadata": {
    "execution": {
     "iopub.execute_input": "2021-10-26T13:10:00.655692Z",
     "iopub.status.busy": "2021-10-26T13:10:00.654472Z",
     "iopub.status.idle": "2021-10-26T13:10:01.078408Z",
     "shell.execute_reply": "2021-10-26T13:10:01.079625Z",
     "shell.execute_reply.started": "2021-10-26T12:50:41.533705Z"
    },
    "papermill": {
     "duration": 3.185642,
     "end_time": "2021-10-26T13:10:01.079837",
     "exception": false,
     "start_time": "2021-10-26T13:09:57.894195",
     "status": "completed"
    },
    "tags": []
   },
   "outputs": [],
   "source": [
    "model.save('vgg_transfer_learning_102_model.h5')"
   ]
  },
  {
   "cell_type": "markdown",
   "id": "c21a8121",
   "metadata": {
    "papermill": {
     "duration": 2.586612,
     "end_time": "2021-10-26T13:10:06.286020",
     "exception": false,
     "start_time": "2021-10-26T13:10:03.699408",
     "status": "completed"
    },
    "tags": []
   },
   "source": [
    "### Here we get the training accuracy to be 99% but the validation accuracy is 79%(maximum)."
   ]
  },
  {
   "cell_type": "markdown",
   "id": "c17bebad",
   "metadata": {
    "papermill": {
     "duration": 2.572524,
     "end_time": "2021-10-26T13:10:11.660538",
     "exception": false,
     "start_time": "2021-10-26T13:10:09.088014",
     "status": "completed"
    },
    "tags": []
   },
   "source": [
    "## Step 5 : Testing the model"
   ]
  },
  {
   "cell_type": "code",
   "execution_count": 16,
   "id": "367c84b1",
   "metadata": {
    "execution": {
     "iopub.execute_input": "2021-10-26T13:10:16.714925Z",
     "iopub.status.busy": "2021-10-26T13:10:16.714060Z",
     "iopub.status.idle": "2021-10-26T13:10:18.643833Z",
     "shell.execute_reply": "2021-10-26T13:10:18.644444Z",
     "shell.execute_reply.started": "2021-10-26T12:50:44.289268Z"
    },
    "papermill": {
     "duration": 4.465205,
     "end_time": "2021-10-26T13:10:18.644639",
     "exception": false,
     "start_time": "2021-10-26T13:10:14.179434",
     "status": "completed"
    },
    "tags": []
   },
   "outputs": [
    {
     "name": "stdout",
     "output_type": "stream",
     "text": [
      "26/26 [==============================] - 1s 19ms/step - loss: 2.0056 - accuracy: 0.7607\n",
      "Test loss: 2.0056068897247314\n",
      "Test accuracy: 0.7606837749481201\n",
      "Predicted labels: [50 57 34 37  7 64 77 75 16 50]\n",
      "Actual Labels:    [50 57 34 37  7 64 77 75 16 50]\n"
     ]
    }
   ],
   "source": [
    "# Model 1 Testing\n",
    "from keras.models import load_model\n",
    "model = load_model(\"vgg_transfer_learning_102_model.h5\")\n",
    "\n",
    "score = model.evaluate(testx, testy)\n",
    "\n",
    "print('Test loss:', score[0]) \n",
    "print('Test accuracy:', score[1])\n",
    "\n",
    "#Predict output on sample input data\n",
    "pred = model.predict(testx) \n",
    "pred = np.argmax(pred, axis = 1)[:10] \n",
    "label = np.argmax(testy,axis = 1)[:10] \n",
    "\n",
    "print(\"Predicted labels:\",pred) \n",
    "print(\"Actual Labels:   \",label)"
   ]
  },
  {
   "cell_type": "markdown",
   "id": "3d99300b",
   "metadata": {
    "papermill": {
     "duration": 2.53052,
     "end_time": "2021-10-26T13:10:23.750036",
     "exception": false,
     "start_time": "2021-10-26T13:10:21.219516",
     "status": "completed"
    },
    "tags": []
   },
   "source": [
    "# Conclusion"
   ]
  },
  {
   "cell_type": "markdown",
   "id": "f0b5081f",
   "metadata": {
    "papermill": {
     "duration": 2.829271,
     "end_time": "2021-10-26T13:10:29.138288",
     "exception": false,
     "start_time": "2021-10-26T13:10:26.309017",
     "status": "completed"
    },
    "tags": []
   },
   "source": [
    "### Hence the model seems to perform well with an accuracy of 74.23%. Further accuracy can be increased by introducing better architectures like MobileNet or ResNet or by using data augmentation technique."
   ]
  },
  {
   "cell_type": "markdown",
   "id": "84345115",
   "metadata": {
    "papermill": {
     "duration": 3.059545,
     "end_time": "2021-10-26T13:10:34.766664",
     "exception": false,
     "start_time": "2021-10-26T13:10:31.707119",
     "status": "completed"
    },
    "tags": []
   },
   "source": [
    "# Refrences"
   ]
  },
  {
   "cell_type": "markdown",
   "id": "83d2d5fa",
   "metadata": {
    "papermill": {
     "duration": 2.849997,
     "end_time": "2021-10-26T13:10:40.226082",
     "exception": false,
     "start_time": "2021-10-26T13:10:37.376085",
     "status": "completed"
    },
    "tags": []
   },
   "source": [
    "1. https://analyticsindiamag.com/transfer-learning-for-multi-class-image-classification-using-deep-convolutional-neural-network/\n",
    "2. https://www.kaggle.com/nadeemsk4347/classifying-flowers-with-keras\n",
    "\n",
    "\n"
   ]
  },
  {
   "cell_type": "markdown",
   "id": "e50b9699",
   "metadata": {
    "papermill": {
     "duration": 2.566752,
     "end_time": "2021-10-26T13:10:45.494538",
     "exception": false,
     "start_time": "2021-10-26T13:10:42.927786",
     "status": "completed"
    },
    "tags": []
   },
   "source": []
  },
  {
   "cell_type": "code",
   "execution_count": null,
   "id": "8f211728",
   "metadata": {
    "papermill": {
     "duration": 2.527209,
     "end_time": "2021-10-26T13:10:50.557071",
     "exception": false,
     "start_time": "2021-10-26T13:10:48.029862",
     "status": "completed"
    },
    "tags": []
   },
   "outputs": [],
   "source": []
  }
 ],
 "metadata": {
  "kernelspec": {
   "display_name": "Python 3",
   "language": "python",
   "name": "python3"
  },
  "language_info": {
   "codemirror_mode": {
    "name": "ipython",
    "version": 3
   },
   "file_extension": ".py",
   "mimetype": "text/x-python",
   "name": "python",
   "nbconvert_exporter": "python",
   "pygments_lexer": "ipython3",
   "version": "3.7.10"
  },
  "papermill": {
   "default_parameters": {},
   "duration": 688.927162,
   "end_time": "2021-10-26T13:10:57.216464",
   "environment_variables": {},
   "exception": null,
   "input_path": "__notebook__.ipynb",
   "output_path": "__notebook__.ipynb",
   "parameters": {},
   "start_time": "2021-10-26T12:59:28.289302",
   "version": "2.3.3"
  }
 },
 "nbformat": 4,
 "nbformat_minor": 5
}
